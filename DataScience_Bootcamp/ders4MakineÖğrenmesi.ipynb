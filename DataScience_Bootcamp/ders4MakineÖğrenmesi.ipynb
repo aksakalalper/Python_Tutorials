{
 "cells": [
  {
   "cell_type": "markdown",
   "metadata": {},
   "source": [
    "Linear Regression"
   ]
  },
  {
   "cell_type": "code",
   "execution_count": null,
   "metadata": {},
   "outputs": [],
   "source": [
    "import numpy as np\n",
    "import pandas as pd\n",
    "import matplotlib.pyplot as plt\n",
    "from sklearn.linear_model import LinearRegression\n",
    "\n",
    "file=\"Salary_dataset.csv\"\n",
    "data=pd.read_csv(file)\n",
    "df=pd.DataFrame(data)\n",
    "df=df.drop(\"Unnamed: 0\",axis=1)\n",
    "\n",
    "lr=LinearRegression()\n",
    "y=df[\"Salary\"].values.reshape(-1,1)\n",
    "x=df.drop(\"Salary\",axis=1).values.reshape(-1,1)\n",
    "lr.fit(x,y)\n",
    "lr.predict([[12]])\n",
    "\n",
    "plt.scatter(df[\"YearsExperience\"],df[\"Salary\"])\n",
    "plt.xlabel(\"YearsExperience\")\n",
    "plt.ylabel(\"Salary\")\n",
    "\n",
    "m = 9449.96232146  # Eğim\n",
    "b = 24848.20396652  # Y kesişimi\n",
    "X_line = np.array([[0], [12]])\n",
    "y_line = m * X_line + b\n",
    "\n",
    "plt.plot(X_line, y_line, color='green', linestyle='--', label='Fixed Slope Line (m=3, b=0)')\n",
    "plt.title('Linear Regression with Fixed Slope Line')\n",
    "plt.legend()\n",
    "plt.grid()\n",
    "plt.show()"
   ]
  },
  {
   "cell_type": "markdown",
   "metadata": {},
   "source": [
    "Polynominal Regression\n"
   ]
  },
  {
   "cell_type": "code",
   "execution_count": null,
   "metadata": {},
   "outputs": [],
   "source": [
    "import seaborn as sns\n",
    "from sklearn.preprocessing import PolynomialFeatures\n",
    "from sklearn.linear_model import LinearRegression \n",
    "\n",
    "file=\"insurance.csv\"\n",
    "data=pd.read_csv(file)\n",
    "df=pd.DataFrame(data)\n",
    "\n",
    "df_new=df.drop(columns=[\"sex\",\"smoker\",\"children\",\"region\"])\n",
    "y=df_new[\"charges\"]\n",
    "x=df_new[[\"age\",\"bmi\"]]\n",
    "\n",
    "poly = PolynomialFeatures(degree=2)\n",
    "X_poly = poly.fit_transform(x)\n",
    "model = LinearRegression()\n",
    "model.fit(X_poly, y)\n",
    "y_pred = model.predict(X_poly)\n",
    "\n",
    "model.intercept_\n",
    "model.coef_\n",
    "\n",
    "plt.scatter(df_new['age'], y, color='blue', label='Real') \n",
    "plt.scatter(df_new['age'], y_pred, color='red', label='Predicted') \n",
    "plt.xlabel('Age') \n",
    "plt.ylabel('Charges') \n",
    "plt.title('Polynominal') \n",
    "plt.grid()\n",
    "plt.legend() \n",
    "plt.show()\n"
   ]
  },
  {
   "cell_type": "markdown",
   "metadata": {},
   "source": [
    "Logistic Regression\n"
   ]
  },
  {
   "cell_type": "code",
   "execution_count": null,
   "metadata": {},
   "outputs": [],
   "source": [
    "import numpy as np\n",
    "import pandas as pd\n",
    "import matplotlib.pyplot as plt\n",
    "from sklearn.preprocessing import StandardScaler\n",
    "from sklearn.model_selection import train_test_split\n",
    "import seaborn as sns\n",
    "from sklearn.linear_model import LogisticRegression\n",
    "\n",
    "file=\"column_2C_weka.csv\"\n",
    "data=pd.read_csv(file)\n",
    "df=pd.DataFrame(data)\n",
    "df=pd.get_dummies(df,columns=[\"class\"],drop_first=True)\n",
    "#plt.figure(figsize=(5,5))\n",
    "sns.heatmap(df.corr(), annot=True)\n",
    "plt.figure(figsize=(5,5))\n",
    "df_graph=df.drop(columns=[\"class_Normal\"])\n",
    "sns.pairplot(df_graph)\n",
    "plt.show()\n",
    "model = LogisticRegression()\n",
    "ss=StandardScaler()\n",
    "\n",
    "y=df[\"class_Normal\"]\n",
    "x=df.drop(\"class_Normal\",axis=1)\n",
    "\n",
    "x_scaled=ss.fit_transform(x)\n",
    "x_scaled=pd.DataFrame(x_scaled)\n",
    "\n",
    "X_train, X_test, y_train, y_test = train_test_split(x_scaled, y, test_size=0.2, random_state=42)\n",
    "\n",
    "\n",
    "model.fit(X_train, y_train)\n",
    "y_pred = model.predict(X_test)\n",
    "\n",
    "model.score(X_test, y_test)"
   ]
  },
  {
   "cell_type": "markdown",
   "metadata": {},
   "source": [
    "K-Nearest Neighbour"
   ]
  },
  {
   "cell_type": "code",
   "execution_count": null,
   "metadata": {},
   "outputs": [],
   "source": [
    "import numpy as np\n",
    "import pandas as pd\n",
    "import matplotlib.pyplot as plt\n",
    "from sklearn.preprocessing import StandardScaler\n",
    "from sklearn.model_selection import train_test_split\n",
    "import seaborn as sns\n",
    "from sklearn.neighbors import KNeighborsClassifier\n",
    "\n",
    "file=\"column_2C_weka.csv\"\n",
    "data=pd.read_csv(file)\n",
    "df=pd.DataFrame(data)\n",
    "\n",
    "df=pd.get_dummies(df,columns=[\"class\"],drop_first=True)\n",
    "sns.scatterplot(data=df,x=\"sacral_slope\",y=\"pelvic_incidence\",color=\"sacral_slope\",hue=\"class_Normal\")\n",
    "\n",
    "for i in range(1,6):\n",
    "    knn=KNeighborsClassifier(n_neighbors=i)\n",
    "    print(knn.fit(X_train,y_train))\n",
    "    print(knn.score(X_test,y_test))"
   ]
  },
  {
   "cell_type": "markdown",
   "metadata": {},
   "source": [
    "SVM (Support vector machine)"
   ]
  },
  {
   "cell_type": "code",
   "execution_count": null,
   "metadata": {},
   "outputs": [],
   "source": [
    "import numpy as np\n",
    "import pandas as pd\n",
    "import matplotlib.pyplot as plt\n",
    "from sklearn.preprocessing import StandardScaler\n",
    "from sklearn.model_selection import train_test_split\n",
    "import seaborn as sns\n",
    "from sklearn.svm import SVC\n",
    "\n",
    "\n",
    "file=\"column_2C_weka.csv\"\n",
    "data=pd.read_csv(file)\n",
    "df=pd.DataFrame(data)\n",
    "\n",
    "df=pd.get_dummies(df,columns=[\"class\"],drop_first=True)\n",
    "sns.scatterplot(data=df,x=\"sacral_slope\",y=\"pelvic_incidence\",color=\"sacral_slope\",hue=\"class_Normal\")\n",
    "\n",
    "y=df[\"class_Normal\"]\n",
    "x=df.drop(\"class_Normal\",axis=1)\n",
    "\n",
    "ss=StandardScaler()\n",
    "x_scaled=ss.fit_transform(x)\n",
    "x_scaled=pd.DataFrame(x_scaled)\n",
    "\n",
    "X_train, X_test, y_train, y_test = train_test_split(x_scaled, y, test_size=0.2, random_state=42)\n",
    "\n",
    "svm=SVC()\n",
    "svm.fit(X_train,y_train)\n",
    "\n",
    "svm.score(X_test,y_test)\n",
    "\n"
   ]
  },
  {
   "cell_type": "markdown",
   "metadata": {},
   "source": [
    "Decision Tree"
   ]
  },
  {
   "cell_type": "code",
   "execution_count": null,
   "metadata": {},
   "outputs": [],
   "source": [
    "import numpy as np\n",
    "import pandas as pd\n",
    "import matplotlib.pyplot as plt\n",
    "from sklearn.preprocessing import StandardScaler\n",
    "from sklearn.model_selection import train_test_split\n",
    "import seaborn as sns\n",
    "from sklearn.tree import DecisionTreeClassifier\n",
    "\n",
    "file=\"column_2C_weka.csv\"\n",
    "data=pd.read_csv(file)\n",
    "df=pd.DataFrame(data)\n",
    "\n",
    "df=pd.get_dummies(df,columns=[\"class\"],drop_first=True)\n",
    "sns.scatterplot(data=df,x=\"sacral_slope\",y=\"pelvic_incidence\",color=\"sacral_slope\",hue=\"class_Normal\")\n",
    "\n",
    "y=df[\"class_Normal\"]\n",
    "x=df.drop(\"class_Normal\",axis=1)\n",
    "\n",
    "ss=StandardScaler()\n",
    "x_scaled=ss.fit_transform(x)\n",
    "x_scaled=pd.DataFrame(x_scaled)\n",
    "\n",
    "X_train, X_test, y_train, y_test = train_test_split(x_scaled, y, test_size=0.2, random_state=42)\n",
    "\n",
    "dt=DecisionTreeClassifier()\n",
    "dt.fit(X_train,y_train)\n",
    "\n",
    "dt.score(X_test,y_test)\n"
   ]
  },
  {
   "cell_type": "markdown",
   "metadata": {},
   "source": [
    "Random Forest Classifier"
   ]
  },
  {
   "cell_type": "code",
   "execution_count": null,
   "metadata": {},
   "outputs": [],
   "source": [
    "import numpy as np\n",
    "import pandas as pd\n",
    "import matplotlib.pyplot as plt\n",
    "from sklearn.preprocessing import StandardScaler\n",
    "from sklearn.model_selection import train_test_split\n",
    "import seaborn as sns\n",
    "from sklearn.ensemble import RandomForestClassifier \n",
    "from sklearn.metrics import confusion_matrix\n",
    "\n",
    "file=\"column_2C_weka.csv\"\n",
    "data=pd.read_csv(file)\n",
    "df=pd.DataFrame(data)\n",
    "\n",
    "df=pd.get_dummies(df,columns=[\"class\"],drop_first=True)\n",
    "sns.scatterplot(data=df,x=\"sacral_slope\",y=\"pelvic_incidence\",color=\"sacral_slope\",hue=\"class_Normal\")\n",
    "\n",
    "y=df[\"class_Normal\"]\n",
    "x=df.drop(\"class_Normal\",axis=1)\n",
    "\n",
    "ss=StandardScaler()\n",
    "x_scaled=ss.fit_transform(x)\n",
    "x_scaled=pd.DataFrame(x_scaled)\n",
    "\n",
    "X_train, X_test, y_train, y_test = train_test_split(x_scaled, y, test_size=0.2, random_state=42)\n",
    "\n",
    "rf=RandomForestClassifier(n_estimators=50,random_state=1)\n",
    "rf.fit(X_train,y_train)\n",
    "\n",
    "rf.score(X_test,y_test)\n",
    "\n",
    "y_pred=rf.predict(X_test)\n",
    "\n",
    "print(confusion_matrix(y_test,y_pred))\n",
    "sns.set_theme(font_scale=1.5)\n",
    "fig, ax = plt.subplots(figsize=(3,3))\n",
    "ax = sns.heatmap(confusion_matrix(y_test, y_pred),\n",
    "                     annot=True,\n",
    "                     cbar=False)\n",
    "plt.xlabel(\"Predicted Values\")\n",
    "plt.ylabel(\"True Values\")\n",
    "plt.show()"
   ]
  },
  {
   "cell_type": "code",
   "execution_count": null,
   "metadata": {},
   "outputs": [],
   "source": []
  }
 ],
 "metadata": {
  "kernelspec": {
   "display_name": "Python 3",
   "language": "python",
   "name": "python3"
  },
  "language_info": {
   "codemirror_mode": {
    "name": "ipython",
    "version": 3
   },
   "file_extension": ".py",
   "mimetype": "text/x-python",
   "name": "python",
   "nbconvert_exporter": "python",
   "pygments_lexer": "ipython3",
   "version": "3.12.7"
  }
 },
 "nbformat": 4,
 "nbformat_minor": 2
}
