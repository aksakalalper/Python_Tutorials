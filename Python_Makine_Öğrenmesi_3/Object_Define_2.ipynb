{
 "cells": [
  {
   "cell_type": "markdown",
   "metadata": {},
   "source": [
    "importing libraries"
   ]
  },
  {
   "cell_type": "code",
   "execution_count": 2,
   "metadata": {},
   "outputs": [],
   "source": [
    "import numpy as np\n",
    "import matplotlib.pyplot as plt\n",
    "from PIL import Image\n",
    "from keras.applications import ResNet50\n",
    "from keras.applications import imagenet_utils\n",
    "from keras.preprocessing import image\n",
    "from io import BytesIO\n",
    "import os\n",
    "import requests\n",
    "\n"
   ]
  },
  {
   "cell_type": "markdown",
   "metadata": {},
   "source": [
    "defining model"
   ]
  },
  {
   "cell_type": "code",
   "execution_count": null,
   "metadata": {},
   "outputs": [],
   "source": [
    "model=ResNet50(weights=\"imagenet\")\n",
    "model.summary()"
   ]
  },
  {
   "cell_type": "markdown",
   "metadata": {},
   "source": [
    "preparing image"
   ]
  },
  {
   "cell_type": "code",
   "execution_count": 4,
   "metadata": {},
   "outputs": [],
   "source": [
    "def prepare_image(image,target):\n",
    "    image=image.resize(target)\n",
    "    image=np.array(image)\n",
    "    image=np.expand_dims(image,axis=0)\n",
    "    image=imagenet_utils.preprocess_input(image)\n",
    "    return image"
   ]
  },
  {
   "cell_type": "markdown",
   "metadata": {},
   "source": [
    "making predictions"
   ]
  },
  {
   "cell_type": "code",
   "execution_count": 6,
   "metadata": {},
   "outputs": [
    {
     "name": "stdout",
     "output_type": "stream",
     "text": [
      "\u001b[1m1/1\u001b[0m \u001b[32m━━━━━━━━━━━━━━━━━━━━\u001b[0m\u001b[37m\u001b[0m \u001b[1m0s\u001b[0m 112ms/step\n",
      "{'success': True, 'predictions': [{'label': 'Windsor_tie', 'probability': 0.48110684752464294}, {'label': 'suit', 'probability': 0.31782063841819763}, {'label': 'cornet', 'probability': 0.020355025306344032}, {'label': 'bow_tie', 'probability': 0.016544286161661148}, {'label': 'vestment', 'probability': 0.01617847941815853}]}\n"
     ]
    }
   ],
   "source": [
    "import requests\n",
    "from PIL import Image\n",
    "from io import BytesIO\n",
    "import numpy as np\n",
    "from keras.applications import imagenet_utils\n",
    "\n",
    "imageUrl = \"https://encrypted-tbn0.gstatic.com/images?q=tbn:ANd9GcR5Uo9ms9s8jsQfI9IWDAljNhRkqRJbp8cRZw&s\"\n",
    "response = requests.get(imageUrl)\n",
    "image = Image.open(BytesIO(response.content))\n",
    "data = {\"success\": False}\n",
    "\n",
    "def prepare_image(image, target):\n",
    "    image = image.resize(target)\n",
    "    image = np.array(image)\n",
    "    image = np.expand_dims(image, axis=0)\n",
    "    image = imagenet_utils.preprocess_input(image)\n",
    "    return image\n",
    "\n",
    "pre_image = prepare_image(image, target=(224, 224))\n",
    "predictions = model.predict(pre_image)\n",
    "results = imagenet_utils.decode_predictions(predictions)\n",
    "data[\"predictions\"] = []\n",
    "\n",
    "for (imagenetID, label, prob) in results[0]:\n",
    "    r = {\"label\": label, \"probability\": float(prob)}\n",
    "    data[\"predictions\"].append(r)\n",
    "data[\"success\"] = True\n",
    "\n",
    "print(data)\n"
   ]
  },
  {
   "cell_type": "code",
   "execution_count": null,
   "metadata": {},
   "outputs": [],
   "source": []
  }
 ],
 "metadata": {
  "kernelspec": {
   "display_name": "Python 3",
   "language": "python",
   "name": "python3"
  },
  "language_info": {
   "codemirror_mode": {
    "name": "ipython",
    "version": 3
   },
   "file_extension": ".py",
   "mimetype": "text/x-python",
   "name": "python",
   "nbconvert_exporter": "python",
   "pygments_lexer": "ipython3",
   "version": "3.12.7"
  }
 },
 "nbformat": 4,
 "nbformat_minor": 2
}
